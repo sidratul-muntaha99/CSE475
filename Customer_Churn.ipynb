{
 "cells": [
  {
   "cell_type": "code",
   "execution_count": 1,
   "id": "a645626e",
   "metadata": {},
   "outputs": [],
   "source": [
    "import pandas as pd\n",
    "from matplotlib import pyplot as plt\n",
    "import numpy as np\n",
    "%matplotlib inline\n",
    "from sklearn.preprocessing import MinMaxScaler\n",
    "import seaborn as sn\n",
    "from sklearn.model_selection import train_test_split\n",
    "import tensorflow as tf\n",
    "from tensorflow import keras"
   ]
  },
  {
   "cell_type": "code",
   "execution_count": 2,
   "id": "87193b60",
   "metadata": {},
   "outputs": [],
   "source": [
    "df = pd.read_csv(\"custo_churn.csv\")"
   ]
  },
  {
   "cell_type": "code",
   "execution_count": 3,
   "id": "5e6f7557",
   "metadata": {},
   "outputs": [
    {
     "data": {
      "text/plain": [
       "(7043, 21)"
      ]
     },
     "execution_count": 3,
     "metadata": {},
     "output_type": "execute_result"
    }
   ],
   "source": [
    "df.shape"
   ]
  },
  {
   "cell_type": "code",
   "execution_count": 4,
   "id": "f90ced95",
   "metadata": {},
   "outputs": [
    {
     "data": {
      "text/plain": [
       "customerID           object\n",
       "gender               object\n",
       "SeniorCitizen         int64\n",
       "Partner              object\n",
       "Dependents           object\n",
       "tenure                int64\n",
       "PhoneService         object\n",
       "MultipleLines        object\n",
       "InternetService      object\n",
       "OnlineSecurity       object\n",
       "OnlineBackup         object\n",
       "DeviceProtection     object\n",
       "TechSupport          object\n",
       "StreamingTV          object\n",
       "StreamingMovies      object\n",
       "Contract             object\n",
       "PaperlessBilling     object\n",
       "PaymentMethod        object\n",
       "MonthlyCharges      float64\n",
       "TotalCharges         object\n",
       "Churn                object\n",
       "dtype: object"
      ]
     },
     "execution_count": 4,
     "metadata": {},
     "output_type": "execute_result"
    }
   ],
   "source": [
    "df.dtypes"
   ]
  },
  {
   "cell_type": "code",
   "execution_count": 5,
   "id": "7d25f6cd",
   "metadata": {},
   "outputs": [],
   "source": [
    "df.drop('customerID',axis='columns',inplace=True)"
   ]
  },
  {
   "cell_type": "code",
   "execution_count": 6,
   "id": "76f841f3",
   "metadata": {},
   "outputs": [
    {
     "data": {
      "text/plain": [
       "'1949.4'"
      ]
     },
     "execution_count": 6,
     "metadata": {},
     "output_type": "execute_result"
    }
   ],
   "source": [
    "df.TotalCharges.values[6]"
   ]
  },
  {
   "cell_type": "code",
   "execution_count": 7,
   "id": "748cd477",
   "metadata": {},
   "outputs": [
    {
     "ename": "ValueError",
     "evalue": "Unable to parse string \" \" at position 488",
     "output_type": "error",
     "traceback": [
      "\u001b[1;31m---------------------------------------------------------------------------\u001b[0m",
      "\u001b[1;31mValueError\u001b[0m                                Traceback (most recent call last)",
      "\u001b[1;32m~\\anaconda3\\envs\\Tf\\lib\\site-packages\\pandas\\_libs\\lib.pyx\u001b[0m in \u001b[0;36mpandas._libs.lib.maybe_convert_numeric\u001b[1;34m()\u001b[0m\n",
      "\u001b[1;31mValueError\u001b[0m: Unable to parse string \" \"",
      "\nDuring handling of the above exception, another exception occurred:\n",
      "\u001b[1;31mValueError\u001b[0m                                Traceback (most recent call last)",
      "\u001b[1;32m~\\AppData\\Local\\Temp/ipykernel_9412/2112264836.py\u001b[0m in \u001b[0;36m<module>\u001b[1;34m\u001b[0m\n\u001b[1;32m----> 1\u001b[1;33m \u001b[0mpd\u001b[0m\u001b[1;33m.\u001b[0m\u001b[0mto_numeric\u001b[0m\u001b[1;33m(\u001b[0m\u001b[0mdf\u001b[0m\u001b[1;33m.\u001b[0m\u001b[0mTotalCharges\u001b[0m\u001b[1;33m)\u001b[0m\u001b[1;33m\u001b[0m\u001b[1;33m\u001b[0m\u001b[0m\n\u001b[0m",
      "\u001b[1;32m~\\anaconda3\\envs\\Tf\\lib\\site-packages\\pandas\\core\\tools\\numeric.py\u001b[0m in \u001b[0;36mto_numeric\u001b[1;34m(arg, errors, downcast)\u001b[0m\n\u001b[0;32m    181\u001b[0m         \u001b[0mcoerce_numeric\u001b[0m \u001b[1;33m=\u001b[0m \u001b[0merrors\u001b[0m \u001b[1;32mnot\u001b[0m \u001b[1;32min\u001b[0m \u001b[1;33m(\u001b[0m\u001b[1;34m\"ignore\"\u001b[0m\u001b[1;33m,\u001b[0m \u001b[1;34m\"raise\"\u001b[0m\u001b[1;33m)\u001b[0m\u001b[1;33m\u001b[0m\u001b[1;33m\u001b[0m\u001b[0m\n\u001b[0;32m    182\u001b[0m         \u001b[1;32mtry\u001b[0m\u001b[1;33m:\u001b[0m\u001b[1;33m\u001b[0m\u001b[1;33m\u001b[0m\u001b[0m\n\u001b[1;32m--> 183\u001b[1;33m             values, _ = lib.maybe_convert_numeric(\n\u001b[0m\u001b[0;32m    184\u001b[0m                 \u001b[0mvalues\u001b[0m\u001b[1;33m,\u001b[0m \u001b[0mset\u001b[0m\u001b[1;33m(\u001b[0m\u001b[1;33m)\u001b[0m\u001b[1;33m,\u001b[0m \u001b[0mcoerce_numeric\u001b[0m\u001b[1;33m=\u001b[0m\u001b[0mcoerce_numeric\u001b[0m\u001b[1;33m\u001b[0m\u001b[1;33m\u001b[0m\u001b[0m\n\u001b[0;32m    185\u001b[0m             )\n",
      "\u001b[1;32m~\\anaconda3\\envs\\Tf\\lib\\site-packages\\pandas\\_libs\\lib.pyx\u001b[0m in \u001b[0;36mpandas._libs.lib.maybe_convert_numeric\u001b[1;34m()\u001b[0m\n",
      "\u001b[1;31mValueError\u001b[0m: Unable to parse string \" \" at position 488"
     ]
    }
   ],
   "source": [
    "pd.to_numeric(df.TotalCharges)"
   ]
  },
  {
   "cell_type": "code",
   "execution_count": 8,
   "id": "d008bbd8",
   "metadata": {},
   "outputs": [
    {
     "data": {
      "text/plain": [
       "0         29.85\n",
       "1       1889.50\n",
       "2        108.15\n",
       "3       1840.75\n",
       "4        151.65\n",
       "         ...   \n",
       "7038    1990.50\n",
       "7039    7362.90\n",
       "7040     346.45\n",
       "7041     306.60\n",
       "7042    6844.50\n",
       "Name: TotalCharges, Length: 7043, dtype: float64"
      ]
     },
     "execution_count": 8,
     "metadata": {},
     "output_type": "execute_result"
    }
   ],
   "source": [
    "pd.to_numeric(df.TotalCharges,errors='coerce')"
   ]
  },
  {
   "cell_type": "code",
   "execution_count": 9,
   "id": "95708fa1",
   "metadata": {},
   "outputs": [
    {
     "data": {
      "text/plain": [
       "(11, 20)"
      ]
     },
     "execution_count": 9,
     "metadata": {},
     "output_type": "execute_result"
    }
   ],
   "source": [
    "df[pd.to_numeric(df.TotalCharges,errors='coerce').isnull()].shape"
   ]
  },
  {
   "cell_type": "code",
   "execution_count": 10,
   "id": "2d955dfb",
   "metadata": {},
   "outputs": [
    {
     "data": {
      "text/plain": [
       "(7032, 20)"
      ]
     },
     "execution_count": 10,
     "metadata": {},
     "output_type": "execute_result"
    }
   ],
   "source": [
    "df1=df[df.TotalCharges!=' ']\n",
    "df1.shape"
   ]
  },
  {
   "cell_type": "code",
   "execution_count": 12,
   "id": "34bc7ce9",
   "metadata": {},
   "outputs": [],
   "source": [
    "df1.TotalCharges=pd.to_numeric(df1.TotalCharges)"
   ]
  },
  {
   "cell_type": "code",
   "execution_count": 13,
   "id": "b4f0a262",
   "metadata": {},
   "outputs": [
    {
     "data": {
      "text/plain": [
       "gender               object\n",
       "SeniorCitizen         int64\n",
       "Partner              object\n",
       "Dependents           object\n",
       "tenure                int64\n",
       "PhoneService         object\n",
       "MultipleLines        object\n",
       "InternetService      object\n",
       "OnlineSecurity       object\n",
       "OnlineBackup         object\n",
       "DeviceProtection     object\n",
       "TechSupport          object\n",
       "StreamingTV          object\n",
       "StreamingMovies      object\n",
       "Contract             object\n",
       "PaperlessBilling     object\n",
       "PaymentMethod        object\n",
       "MonthlyCharges      float64\n",
       "TotalCharges        float64\n",
       "Churn                object\n",
       "dtype: object"
      ]
     },
     "execution_count": 13,
     "metadata": {},
     "output_type": "execute_result"
    }
   ],
   "source": [
    "df1.dtypes"
   ]
  },
  {
   "cell_type": "code",
   "execution_count": 14,
   "id": "2b2f09d9",
   "metadata": {},
   "outputs": [],
   "source": [
    "churn_no = df1[df1.Churn=='No'].tenure\n",
    "churn_yes =df1[df1.Churn=='Yes'].tenure"
   ]
  },
  {
   "cell_type": "code",
   "execution_count": 15,
   "id": "4214d407",
   "metadata": {},
   "outputs": [
    {
     "data": {
      "text/plain": [
       "<matplotlib.legend.Legend at 0x21098221670>"
      ]
     },
     "execution_count": 15,
     "metadata": {},
     "output_type": "execute_result"
    },
    {
     "data": {
      "image/png": "[encoded data removed]",
      "text/plain": [
       "<Figure size 432x288 with 1 Axes>"
      ]
     },
     "metadata": {
      "needs_background": "light"
     },
     "output_type": "display_data"
    }
   ],
   "source": [
    "plt.xlabel(\"tenure\")\n",
    "plt.ylabel(\"Customer Amount\")\n",
    "\n",
    "plt.hist([churn_no,churn_yes],color=['gray','black'],label=['Churn = No','Churn = Yes'])\n",
    "plt.legend()"
   ]
  },
  {
   "cell_type": "code",
   "execution_count": 16,
   "id": "1514b982",
   "metadata": {},
   "outputs": [],
   "source": [
    "mc_churn_no = df1[df1.Churn=='No'].MonthlyCharges\n",
    "mc_churn_yes =df1[df1.Churn=='Yes'].MonthlyCharges"
   ]
  },
  {
   "cell_type": "code",
   "execution_count": 17,
   "id": "39b46d5b",
   "metadata": {},
   "outputs": [
    {
     "data": {
      "text/plain": [
       "<matplotlib.legend.Legend at 0x21098473e50>"
      ]
     },
     "execution_count": 17,
     "metadata": {},
     "output_type": "execute_result"
    },
    {
     "data": {
      "image/png": "[encoded data removed]",
      "text/plain": [
       "<Figure size 432x288 with 1 Axes>"
      ]
     },
     "metadata": {
      "needs_background": "light"
     },
     "output_type": "display_data"
    }
   ],
   "source": [
    "plt.xlabel(\"Monthly Charges\")\n",
    "plt.ylabel(\"Customer Amount\")\n",
    "\n",
    "plt.hist([mc_churn_no, mc_churn_yes],color=['gray','black'],label=['Churn = No','Churn = Yes'])\n",
    "plt.legend()"
   ]
  },
  {
   "cell_type": "code",
   "execution_count": 18,
   "id": "993983cf",
   "metadata": {},
   "outputs": [],
   "source": [
    "def unique_values(st):\n",
    "       for column in st:\n",
    "            if st[column].dtypes=='object':\n",
    "                print(f'{column}: {st[column].unique()}')"
   ]
  },
  {
   "cell_type": "code",
   "execution_count": 19,
   "id": "3f17dea3",
   "metadata": {},
   "outputs": [
    {
     "name": "stdout",
     "output_type": "stream",
     "text": [
      "gender: ['Female' 'Male']\n",
      "Partner: ['Yes' 'No']\n",
      "Dependents: ['No' 'Yes']\n",
      "PhoneService: ['No' 'Yes']\n",
      "MultipleLines: ['No phone service' 'No' 'Yes']\n",
      "InternetService: ['DSL' 'Fiber optic' 'No']\n",
      "OnlineSecurity: ['No' 'Yes' 'No internet service']\n",
      "OnlineBackup: ['Yes' 'No' 'No internet service']\n",
      "DeviceProtection: ['No' 'Yes' 'No internet service']\n",
      "TechSupport: ['No' 'Yes' 'No internet service']\n",
      "StreamingTV: ['No' 'Yes' 'No internet service']\n",
      "StreamingMovies: ['No' 'Yes' 'No internet service']\n",
      "Contract: ['Month-to-month' 'One year' 'Two year']\n",
      "PaperlessBilling: ['Yes' 'No']\n",
      "PaymentMethod: ['Electronic check' 'Mailed check' 'Bank transfer (automatic)'\n",
      " 'Credit card (automatic)']\n",
      "Churn: ['No' 'Yes']\n"
     ]
    }
   ],
   "source": [
    "unique_values(df1)"
   ]
  },
  {
   "cell_type": "code",
   "execution_count": 20,
   "id": "c2f438bf",
   "metadata": {},
   "outputs": [],
   "source": [
    "df1 = df1.replace('No internet service','No')\n",
    "df1 = df1.replace('No phone service','No') "
   ]
  },
  {
   "cell_type": "code",
   "execution_count": 21,
   "id": "fa45b0f3",
   "metadata": {},
   "outputs": [
    {
     "name": "stdout",
     "output_type": "stream",
     "text": [
      "gender: ['Female' 'Male']\n",
      "Partner: ['Yes' 'No']\n",
      "Dependents: ['No' 'Yes']\n",
      "PhoneService: ['No' 'Yes']\n",
      "MultipleLines: ['No' 'Yes']\n",
      "InternetService: ['DSL' 'Fiber optic' 'No']\n",
      "OnlineSecurity: ['No' 'Yes']\n",
      "OnlineBackup: ['Yes' 'No']\n",
      "DeviceProtection: ['No' 'Yes']\n",
      "TechSupport: ['No' 'Yes']\n",
      "StreamingTV: ['No' 'Yes']\n",
      "StreamingMovies: ['No' 'Yes']\n",
      "Contract: ['Month-to-month' 'One year' 'Two year']\n",
      "PaperlessBilling: ['Yes' 'No']\n",
      "PaymentMethod: ['Electronic check' 'Mailed check' 'Bank transfer (automatic)'\n",
      " 'Credit card (automatic)']\n",
      "Churn: ['No' 'Yes']\n"
     ]
    }
   ],
   "source": [
    "unique_values(df1)"
   ]
  },
  {
   "cell_type": "code",
   "execution_count": 22,
   "id": "ea79b684",
   "metadata": {},
   "outputs": [],
   "source": [
    "yes_or_no = ['Partner','Dependents','PhoneService','MultipleLines','OnlineSecurity','OnlineBackup',\n",
    "                  'DeviceProtection','TechSupport','StreamingTV','StreamingMovies','PaperlessBilling','Churn']"
   ]
  },
  {
   "cell_type": "code",
   "execution_count": 23,
   "id": "52f1a92d",
   "metadata": {},
   "outputs": [],
   "source": [
    "for col in yes_or_no:\n",
    "    df1[col].replace({'Yes': 1,'No': 0},inplace=True)"
   ]
  },
  {
   "cell_type": "code",
   "execution_count": 24,
   "id": "99d9b992",
   "metadata": {},
   "outputs": [
    {
     "name": "stdout",
     "output_type": "stream",
     "text": [
      "gender: ['Female' 'Male']\n",
      "SeniorCitizen: [0 1]\n",
      "Partner: [1 0]\n",
      "Dependents: [0 1]\n",
      "tenure: [ 1 34  2 45  8 22 10 28 62 13 16 58 49 25 69 52 71 21 12 30 47 72 17 27\n",
      "  5 46 11 70 63 43 15 60 18 66  9  3 31 50 64 56  7 42 35 48 29 65 38 68\n",
      " 32 55 37 36 41  6  4 33 67 23 57 61 14 20 53 40 59 24 44 19 54 51 26 39]\n",
      "PhoneService: [0 1]\n",
      "MultipleLines: [0 1]\n",
      "InternetService: ['DSL' 'Fiber optic' 'No']\n",
      "OnlineSecurity: [0 1]\n",
      "OnlineBackup: [1 0]\n",
      "DeviceProtection: [0 1]\n",
      "TechSupport: [0 1]\n",
      "StreamingTV: [0 1]\n",
      "StreamingMovies: [0 1]\n",
      "Contract: ['Month-to-month' 'One year' 'Two year']\n",
      "PaperlessBilling: [1 0]\n",
      "PaymentMethod: ['Electronic check' 'Mailed check' 'Bank transfer (automatic)'\n",
      " 'Credit card (automatic)']\n",
      "MonthlyCharges: [29.85 56.95 53.85 ... 63.1  44.2  78.7 ]\n",
      "TotalCharges: [  29.85 1889.5   108.15 ...  346.45  306.6  6844.5 ]\n",
      "Churn: [0 1]\n"
     ]
    }
   ],
   "source": [
    "for col in df1:\n",
    "    print(f'{col}: {df1[col].unique()}')"
   ]
  },
  {
   "cell_type": "code",
   "execution_count": 25,
   "id": "0db0498d",
   "metadata": {},
   "outputs": [],
   "source": [
    "df1['gender'].replace({'Female':1,'Male':0},inplace=True)"
   ]
  },
  {
   "cell_type": "code",
   "execution_count": 26,
   "id": "e5263392",
   "metadata": {},
   "outputs": [],
   "source": [
    "df2 = pd.get_dummies(data=df1, columns=['InternetService','Contract','PaymentMethod'])"
   ]
  },
  {
   "cell_type": "code",
   "execution_count": 27,
   "id": "2bab3ca8",
   "metadata": {},
   "outputs": [
    {
     "data": {
      "text/plain": [
       "Index(['gender', 'SeniorCitizen', 'Partner', 'Dependents', 'tenure',\n",
       "       'PhoneService', 'MultipleLines', 'OnlineSecurity', 'OnlineBackup',\n",
       "       'DeviceProtection', 'TechSupport', 'StreamingTV', 'StreamingMovies',\n",
       "       'PaperlessBilling', 'MonthlyCharges', 'TotalCharges', 'Churn',\n",
       "       'InternetService_DSL', 'InternetService_Fiber optic',\n",
       "       'InternetService_No', 'Contract_Month-to-month', 'Contract_One year',\n",
       "       'Contract_Two year', 'PaymentMethod_Bank transfer (automatic)',\n",
       "       'PaymentMethod_Credit card (automatic)',\n",
       "       'PaymentMethod_Electronic check', 'PaymentMethod_Mailed check'],\n",
       "      dtype='object')"
      ]
     },
     "execution_count": 27,
     "metadata": {},
     "output_type": "execute_result"
    }
   ],
   "source": [
    "df2.columns"
   ]
  },
  {
   "cell_type": "code",
   "execution_count": 28,
   "id": "aeeace90",
   "metadata": {},
   "outputs": [
    {
     "data": {
      "text/html": [
       "<div>\n",
       "<style scoped>\n",
       "    .dataframe tbody tr th:only-of-type {\n",
       "        vertical-align: middle;\n",
       "    }\n",
       "\n",
       "    .dataframe tbody tr th {\n",
       "        vertical-align: top;\n",
       "    }\n",
       "\n",
       "    .dataframe thead th {\n",
       "        text-align: right;\n",
       "    }\n",
       "</style>\n",
       "<table border=\"1\" class=\"dataframe\">\n",
       "  <thead>\n",
       "    <tr style=\"text-align: right;\">\n",
       "      <th></th>\n",
       "      <th>gender</th>\n",
       "      <th>SeniorCitizen</th>\n",
       "      <th>Partner</th>\n",
       "      <th>Dependents</th>\n",
       "      <th>tenure</th>\n",
       "      <th>PhoneService</th>\n",
       "      <th>MultipleLines</th>\n",
       "      <th>OnlineSecurity</th>\n",
       "      <th>OnlineBackup</th>\n",
       "      <th>DeviceProtection</th>\n",
       "      <th>...</th>\n",
       "      <th>InternetService_DSL</th>\n",
       "      <th>InternetService_Fiber optic</th>\n",
       "      <th>InternetService_No</th>\n",
       "      <th>Contract_Month-to-month</th>\n",
       "      <th>Contract_One year</th>\n",
       "      <th>Contract_Two year</th>\n",
       "      <th>PaymentMethod_Bank transfer (automatic)</th>\n",
       "      <th>PaymentMethod_Credit card (automatic)</th>\n",
       "      <th>PaymentMethod_Electronic check</th>\n",
       "      <th>PaymentMethod_Mailed check</th>\n",
       "    </tr>\n",
       "  </thead>\n",
       "  <tbody>\n",
       "    <tr>\n",
       "      <th>3370</th>\n",
       "      <td>1</td>\n",
       "      <td>0</td>\n",
       "      <td>1</td>\n",
       "      <td>1</td>\n",
       "      <td>53</td>\n",
       "      <td>0</td>\n",
       "      <td>0</td>\n",
       "      <td>1</td>\n",
       "      <td>1</td>\n",
       "      <td>1</td>\n",
       "      <td>...</td>\n",
       "      <td>1</td>\n",
       "      <td>0</td>\n",
       "      <td>0</td>\n",
       "      <td>1</td>\n",
       "      <td>0</td>\n",
       "      <td>0</td>\n",
       "      <td>1</td>\n",
       "      <td>0</td>\n",
       "      <td>0</td>\n",
       "      <td>0</td>\n",
       "    </tr>\n",
       "    <tr>\n",
       "      <th>38</th>\n",
       "      <td>0</td>\n",
       "      <td>0</td>\n",
       "      <td>0</td>\n",
       "      <td>0</td>\n",
       "      <td>34</td>\n",
       "      <td>1</td>\n",
       "      <td>1</td>\n",
       "      <td>0</td>\n",
       "      <td>1</td>\n",
       "      <td>1</td>\n",
       "      <td>...</td>\n",
       "      <td>0</td>\n",
       "      <td>1</td>\n",
       "      <td>0</td>\n",
       "      <td>1</td>\n",
       "      <td>0</td>\n",
       "      <td>0</td>\n",
       "      <td>0</td>\n",
       "      <td>0</td>\n",
       "      <td>1</td>\n",
       "      <td>0</td>\n",
       "    </tr>\n",
       "    <tr>\n",
       "      <th>3927</th>\n",
       "      <td>0</td>\n",
       "      <td>0</td>\n",
       "      <td>1</td>\n",
       "      <td>0</td>\n",
       "      <td>3</td>\n",
       "      <td>1</td>\n",
       "      <td>0</td>\n",
       "      <td>0</td>\n",
       "      <td>0</td>\n",
       "      <td>0</td>\n",
       "      <td>...</td>\n",
       "      <td>0</td>\n",
       "      <td>0</td>\n",
       "      <td>1</td>\n",
       "      <td>1</td>\n",
       "      <td>0</td>\n",
       "      <td>0</td>\n",
       "      <td>0</td>\n",
       "      <td>1</td>\n",
       "      <td>0</td>\n",
       "      <td>0</td>\n",
       "    </tr>\n",
       "  </tbody>\n",
       "</table>\n",
       "<p>3 rows × 27 columns</p>\n",
       "</div>"
      ],
      "text/plain": [
       "      gender  SeniorCitizen  Partner  Dependents  tenure  PhoneService  \\\n",
       "3370       1              0        1           1      53             0   \n",
       "38         0              0        0           0      34             1   \n",
       "3927       0              0        1           0       3             1   \n",
       "\n",
       "      MultipleLines  OnlineSecurity  OnlineBackup  DeviceProtection  ...  \\\n",
       "3370              0               1             1                 1  ...   \n",
       "38                1               0             1                 1  ...   \n",
       "3927              0               0             0                 0  ...   \n",
       "\n",
       "      InternetService_DSL  InternetService_Fiber optic  InternetService_No  \\\n",
       "3370                    1                            0                   0   \n",
       "38                      0                            1                   0   \n",
       "3927                    0                            0                   1   \n",
       "\n",
       "      Contract_Month-to-month  Contract_One year  Contract_Two year  \\\n",
       "3370                        1                  0                  0   \n",
       "38                          1                  0                  0   \n",
       "3927                        1                  0                  0   \n",
       "\n",
       "      PaymentMethod_Bank transfer (automatic)  \\\n",
       "3370                                        1   \n",
       "38                                          0   \n",
       "3927                                        0   \n",
       "\n",
       "      PaymentMethod_Credit card (automatic)  PaymentMethod_Electronic check  \\\n",
       "3370                                      0                               0   \n",
       "38                                        0                               1   \n",
       "3927                                      1                               0   \n",
       "\n",
       "      PaymentMethod_Mailed check  \n",
       "3370                           0  \n",
       "38                             0  \n",
       "3927                           0  \n",
       "\n",
       "[3 rows x 27 columns]"
      ]
     },
     "execution_count": 28,
     "metadata": {},
     "output_type": "execute_result"
    }
   ],
   "source": [
    "df2.sample(3)"
   ]
  },
  {
   "cell_type": "code",
   "execution_count": 29,
   "id": "4b794472",
   "metadata": {},
   "outputs": [
    {
     "data": {
      "text/plain": [
       "gender                                       int64\n",
       "SeniorCitizen                                int64\n",
       "Partner                                      int64\n",
       "Dependents                                   int64\n",
       "tenure                                       int64\n",
       "PhoneService                                 int64\n",
       "MultipleLines                                int64\n",
       "OnlineSecurity                               int64\n",
       "OnlineBackup                                 int64\n",
       "DeviceProtection                             int64\n",
       "TechSupport                                  int64\n",
       "StreamingTV                                  int64\n",
       "StreamingMovies                              int64\n",
       "PaperlessBilling                             int64\n",
       "MonthlyCharges                             float64\n",
       "TotalCharges                               float64\n",
       "Churn                                        int64\n",
       "InternetService_DSL                          uint8\n",
       "InternetService_Fiber optic                  uint8\n",
       "InternetService_No                           uint8\n",
       "Contract_Month-to-month                      uint8\n",
       "Contract_One year                            uint8\n",
       "Contract_Two year                            uint8\n",
       "PaymentMethod_Bank transfer (automatic)      uint8\n",
       "PaymentMethod_Credit card (automatic)        uint8\n",
       "PaymentMethod_Electronic check               uint8\n",
       "PaymentMethod_Mailed check                   uint8\n",
       "dtype: object"
      ]
     },
     "execution_count": 29,
     "metadata": {},
     "output_type": "execute_result"
    }
   ],
   "source": [
    "df2.dtypes"
   ]
  },
  {
   "cell_type": "code",
   "execution_count": 30,
   "id": "cd8e69b2",
   "metadata": {},
   "outputs": [],
   "source": [
    "cols_to_scale = ['tenure','MonthlyCharges','TotalCharges']\n",
    "\n",
    "from sklearn.preprocessing import MinMaxScaler\n",
    "scaler = MinMaxScaler()\n",
    "df2[cols_to_scale] = scaler.fit_transform(df2[cols_to_scale])"
   ]
  },
  {
   "cell_type": "code",
   "execution_count": 31,
   "id": "7d24c19f",
   "metadata": {},
   "outputs": [
    {
     "name": "stdout",
     "output_type": "stream",
     "text": [
      "gender: [1 0]\n",
      "SeniorCitizen: [0 1]\n",
      "Partner: [1 0]\n",
      "Dependents: [0 1]\n",
      "tenure: [0.         0.46478873 0.01408451 0.61971831 0.09859155 0.29577465\n",
      " 0.12676056 0.38028169 0.85915493 0.16901408 0.21126761 0.8028169\n",
      " 0.67605634 0.33802817 0.95774648 0.71830986 0.98591549 0.28169014\n",
      " 0.15492958 0.4084507  0.64788732 1.         0.22535211 0.36619718\n",
      " 0.05633803 0.63380282 0.14084507 0.97183099 0.87323944 0.5915493\n",
      " 0.1971831  0.83098592 0.23943662 0.91549296 0.11267606 0.02816901\n",
      " 0.42253521 0.69014085 0.88732394 0.77464789 0.08450704 0.57746479\n",
      " 0.47887324 0.66197183 0.3943662  0.90140845 0.52112676 0.94366197\n",
      " 0.43661972 0.76056338 0.50704225 0.49295775 0.56338028 0.07042254\n",
      " 0.04225352 0.45070423 0.92957746 0.30985915 0.78873239 0.84507042\n",
      " 0.18309859 0.26760563 0.73239437 0.54929577 0.81690141 0.32394366\n",
      " 0.6056338  0.25352113 0.74647887 0.70422535 0.35211268 0.53521127]\n",
      "PhoneService: [0 1]\n",
      "MultipleLines: [0 1]\n",
      "OnlineSecurity: [0 1]\n",
      "OnlineBackup: [1 0]\n",
      "DeviceProtection: [0 1]\n",
      "TechSupport: [0 1]\n",
      "StreamingTV: [0 1]\n",
      "StreamingMovies: [0 1]\n",
      "PaperlessBilling: [1 0]\n",
      "MonthlyCharges: [0.11542289 0.38507463 0.35422886 ... 0.44626866 0.25820896 0.60149254]\n",
      "TotalCharges: [0.0012751  0.21586661 0.01031041 ... 0.03780868 0.03321025 0.78764136]\n",
      "Churn: [0 1]\n",
      "InternetService_DSL: [1 0]\n",
      "InternetService_Fiber optic: [0 1]\n",
      "InternetService_No: [0 1]\n",
      "Contract_Month-to-month: [1 0]\n",
      "Contract_One year: [0 1]\n",
      "Contract_Two year: [0 1]\n",
      "PaymentMethod_Bank transfer (automatic): [0 1]\n",
      "PaymentMethod_Credit card (automatic): [0 1]\n",
      "PaymentMethod_Electronic check: [1 0]\n",
      "PaymentMethod_Mailed check: [0 1]\n"
     ]
    }
   ],
   "source": [
    "for col in df2:\n",
    "    print(f'{col}: {df2[col].unique()}')"
   ]
  },
  {
   "cell_type": "code",
   "execution_count": 32,
   "id": "f80cf0b6",
   "metadata": {},
   "outputs": [],
   "source": [
    "X = df2.drop('Churn',axis='columns')\n",
    "y = df2['Churn']"
   ]
  },
  {
   "cell_type": "code",
   "execution_count": 33,
   "id": "ae78f4b9",
   "metadata": {},
   "outputs": [],
   "source": [
    "from sklearn.model_selection import train_test_split\n",
    "X_train, X_test, y_train, y_test = train_test_split(X,y,test_size=0.2,random_state=5)"
   ]
  },
  {
   "cell_type": "code",
   "execution_count": 34,
   "id": "3efa28ef",
   "metadata": {},
   "outputs": [
    {
     "data": {
      "text/plain": [
       "(5625, 26)"
      ]
     },
     "execution_count": 34,
     "metadata": {},
     "output_type": "execute_result"
    }
   ],
   "source": [
    "X_train.shape"
   ]
  },
  {
   "cell_type": "code",
   "execution_count": 35,
   "id": "01a053ab",
   "metadata": {},
   "outputs": [
    {
     "data": {
      "text/plain": [
       "(1407, 26)"
      ]
     },
     "execution_count": 35,
     "metadata": {},
     "output_type": "execute_result"
    }
   ],
   "source": [
    "X_test.shape"
   ]
  },
  {
   "cell_type": "code",
   "execution_count": 36,
   "id": "54dd1b89",
   "metadata": {},
   "outputs": [],
   "source": [
    "model = keras.Sequential([\n",
    "    keras.layers.Dense(26, input_shape=(26,), activation='relu'),\n",
    "    keras.layers.Dense(13, activation='relu'),\n",
    "    keras.layers.Dense(6, activation='relu'),\n",
    "    keras.layers.Dense(1, activation='sigmoid')\n",
    "])"
   ]
  },
  {
   "cell_type": "code",
   "execution_count": 37,
   "id": "1be29482",
   "metadata": {},
   "outputs": [],
   "source": [
    "model.compile(optimizer='adam',\n",
    "              loss='binary_crossentropy',\n",
    "              metrics=['accuracy'])"
   ]
  },
  {
   "cell_type": "code",
   "execution_count": 38,
   "id": "447875d6",
   "metadata": {},
   "outputs": [
    {
     "name": "stdout",
     "output_type": "stream",
     "text": [
      "Epoch 1/200\n",
      "176/176 [==============================] - 1s 1ms/step - loss: 0.4920 - accuracy: 0.7548\n",
      "Epoch 2/200\n",
      "176/176 [==============================] - 0s 1ms/step - loss: 0.4294 - accuracy: 0.7927\n",
      "Epoch 3/200\n",
      "176/176 [==============================] - 0s 1ms/step - loss: 0.4203 - accuracy: 0.7956\n",
      "Epoch 4/200\n",
      "176/176 [==============================] - 0s 1ms/step - loss: 0.4148 - accuracy: 0.8000\n",
      "Epoch 5/200\n",
      "176/176 [==============================] - 0s 1ms/step - loss: 0.4128 - accuracy: 0.8046\n",
      "Epoch 6/200\n",
      "176/176 [==============================] - 0s 1ms/step - loss: 0.4099 - accuracy: 0.8032\n",
      "Epoch 7/200\n",
      "176/176 [==============================] - 0s 1ms/step - loss: 0.4081 - accuracy: 0.8068\n",
      "Epoch 8/200\n",
      "176/176 [==============================] - 0s 1ms/step - loss: 0.4080 - accuracy: 0.8041\n",
      "Epoch 9/200\n",
      "176/176 [==============================] - 0s 1ms/step - loss: 0.4049 - accuracy: 0.8069\n",
      "Epoch 10/200\n",
      "176/176 [==============================] - 0s 1ms/step - loss: 0.4052 - accuracy: 0.8062\n",
      "Epoch 11/200\n",
      "176/176 [==============================] - 0s 1ms/step - loss: 0.4024 - accuracy: 0.8084\n",
      "Epoch 12/200\n",
      "176/176 [==============================] - 0s 1ms/step - loss: 0.4011 - accuracy: 0.8116\n",
      "Epoch 13/200\n",
      "176/176 [==============================] - 0s 1ms/step - loss: 0.3992 - accuracy: 0.8132\n",
      "Epoch 14/200\n",
      "176/176 [==============================] - 0s 1ms/step - loss: 0.3990 - accuracy: 0.8132\n",
      "Epoch 15/200\n",
      "176/176 [==============================] - 0s 1ms/step - loss: 0.3971 - accuracy: 0.8153\n",
      "Epoch 16/200\n",
      "176/176 [==============================] - 0s 1ms/step - loss: 0.3950 - accuracy: 0.8142\n",
      "Epoch 17/200\n",
      "176/176 [==============================] - 0s 1ms/step - loss: 0.3957 - accuracy: 0.8156\n",
      "Epoch 18/200\n",
      "176/176 [==============================] - 0s 1ms/step - loss: 0.3930 - accuracy: 0.8172\n",
      "Epoch 19/200\n",
      "176/176 [==============================] - 0s 1ms/step - loss: 0.3916 - accuracy: 0.8158\n",
      "Epoch 20/200\n",
      "176/176 [==============================] - 0s 1ms/step - loss: 0.3900 - accuracy: 0.8199\n",
      "Epoch 21/200\n",
      "176/176 [==============================] - 0s 1ms/step - loss: 0.3897 - accuracy: 0.8146\n",
      "Epoch 22/200\n",
      "176/176 [==============================] - 0s 1ms/step - loss: 0.3891 - accuracy: 0.8169\n",
      "Epoch 23/200\n",
      "176/176 [==============================] - 0s 1ms/step - loss: 0.3883 - accuracy: 0.8160\n",
      "Epoch 24/200\n",
      "176/176 [==============================] - 0s 1ms/step - loss: 0.3861 - accuracy: 0.8196\n",
      "Epoch 25/200\n",
      "176/176 [==============================] - 0s 1ms/step - loss: 0.3845 - accuracy: 0.8208\n",
      "Epoch 26/200\n",
      "176/176 [==============================] - 0s 1ms/step - loss: 0.3835 - accuracy: 0.8222\n",
      "Epoch 27/200\n",
      "176/176 [==============================] - 0s 1ms/step - loss: 0.3829 - accuracy: 0.8181\n",
      "Epoch 28/200\n",
      "176/176 [==============================] - 0s 1ms/step - loss: 0.3826 - accuracy: 0.8206\n",
      "Epoch 29/200\n",
      "176/176 [==============================] - 0s 1ms/step - loss: 0.3800 - accuracy: 0.8228\n",
      "Epoch 30/200\n",
      "176/176 [==============================] - 0s 1ms/step - loss: 0.3800 - accuracy: 0.8210\n",
      "Epoch 31/200\n",
      "176/176 [==============================] - 0s 1ms/step - loss: 0.3800 - accuracy: 0.8222\n",
      "Epoch 32/200\n",
      "176/176 [==============================] - 0s 1ms/step - loss: 0.3768 - accuracy: 0.8215\n",
      "Epoch 33/200\n",
      "176/176 [==============================] - 0s 1ms/step - loss: 0.3762 - accuracy: 0.8208\n",
      "Epoch 34/200\n",
      "176/176 [==============================] - 0s 1ms/step - loss: 0.3754 - accuracy: 0.8235\n",
      "Epoch 35/200\n",
      "176/176 [==============================] - 0s 1ms/step - loss: 0.3738 - accuracy: 0.8228\n",
      "Epoch 36/200\n",
      "176/176 [==============================] - 0s 1ms/step - loss: 0.3725 - accuracy: 0.8220\n",
      "Epoch 37/200\n",
      "176/176 [==============================] - 0s 1ms/step - loss: 0.3732 - accuracy: 0.8190\n",
      "Epoch 38/200\n",
      "176/176 [==============================] - 0s 1ms/step - loss: 0.3706 - accuracy: 0.8245\n",
      "Epoch 39/200\n",
      "176/176 [==============================] - 0s 1ms/step - loss: 0.3714 - accuracy: 0.8260\n",
      "Epoch 40/200\n",
      "176/176 [==============================] - 0s 1ms/step - loss: 0.3693 - accuracy: 0.8228\n",
      "Epoch 41/200\n",
      "176/176 [==============================] - 0s 1ms/step - loss: 0.3681 - accuracy: 0.8229\n",
      "Epoch 42/200\n",
      "176/176 [==============================] - 0s 1ms/step - loss: 0.3659 - accuracy: 0.8279\n",
      "Epoch 43/200\n",
      "176/176 [==============================] - 0s 1ms/step - loss: 0.3656 - accuracy: 0.8288\n",
      "Epoch 44/200\n",
      "176/176 [==============================] - 0s 1ms/step - loss: 0.3658 - accuracy: 0.8244\n",
      "Epoch 45/200\n",
      "176/176 [==============================] - 0s 1ms/step - loss: 0.3650 - accuracy: 0.8261\n",
      "Epoch 46/200\n",
      "176/176 [==============================] - 0s 1ms/step - loss: 0.3660 - accuracy: 0.8274\n",
      "Epoch 47/200\n",
      "176/176 [==============================] - 0s 1ms/step - loss: 0.3641 - accuracy: 0.8252\n",
      "Epoch 48/200\n",
      "176/176 [==============================] - 0s 1ms/step - loss: 0.3642 - accuracy: 0.8254\n",
      "Epoch 49/200\n",
      "176/176 [==============================] - 0s 1ms/step - loss: 0.3627 - accuracy: 0.8268\n",
      "Epoch 50/200\n",
      "176/176 [==============================] - 0s 1ms/step - loss: 0.3623 - accuracy: 0.8236\n",
      "Epoch 51/200\n",
      "176/176 [==============================] - 0s 1ms/step - loss: 0.3615 - accuracy: 0.8302\n",
      "Epoch 52/200\n",
      "176/176 [==============================] - 0s 1ms/step - loss: 0.3609 - accuracy: 0.8263\n",
      "Epoch 53/200\n",
      "176/176 [==============================] - 0s 1ms/step - loss: 0.3594 - accuracy: 0.8293\n",
      "Epoch 54/200\n",
      "176/176 [==============================] - 0s 1ms/step - loss: 0.3613 - accuracy: 0.8292\n",
      "Epoch 55/200\n",
      "176/176 [==============================] - 0s 1ms/step - loss: 0.3598 - accuracy: 0.8306\n",
      "Epoch 56/200\n",
      "176/176 [==============================] - 0s 1ms/step - loss: 0.3590 - accuracy: 0.8300\n",
      "Epoch 57/200\n",
      "176/176 [==============================] - 0s 1ms/step - loss: 0.3578 - accuracy: 0.8283\n",
      "Epoch 58/200\n",
      "176/176 [==============================] - 0s 1ms/step - loss: 0.3564 - accuracy: 0.8290\n",
      "Epoch 59/200\n",
      "176/176 [==============================] - 0s 1ms/step - loss: 0.3568 - accuracy: 0.8308\n",
      "Epoch 60/200\n",
      "176/176 [==============================] - 0s 1ms/step - loss: 0.3557 - accuracy: 0.8341\n",
      "Epoch 61/200\n",
      "176/176 [==============================] - 0s 1ms/step - loss: 0.3538 - accuracy: 0.8359\n",
      "Epoch 62/200\n",
      "176/176 [==============================] - 0s 1ms/step - loss: 0.3549 - accuracy: 0.8304\n",
      "Epoch 63/200\n",
      "176/176 [==============================] - 0s 1ms/step - loss: 0.3558 - accuracy: 0.8315\n",
      "Epoch 64/200\n",
      "176/176 [==============================] - 0s 1ms/step - loss: 0.3562 - accuracy: 0.8331\n",
      "Epoch 65/200\n",
      "176/176 [==============================] - 0s 1ms/step - loss: 0.3535 - accuracy: 0.8322\n",
      "Epoch 66/200\n",
      "176/176 [==============================] - 0s 1ms/step - loss: 0.3524 - accuracy: 0.8352\n",
      "Epoch 67/200\n",
      "176/176 [==============================] - 0s 1ms/step - loss: 0.3513 - accuracy: 0.8345\n",
      "Epoch 68/200\n",
      "176/176 [==============================] - 0s 1ms/step - loss: 0.3521 - accuracy: 0.8352\n",
      "Epoch 69/200\n",
      "176/176 [==============================] - 0s 1ms/step - loss: 0.3523 - accuracy: 0.8290\n",
      "Epoch 70/200\n",
      "176/176 [==============================] - 0s 1ms/step - loss: 0.3516 - accuracy: 0.8332\n",
      "Epoch 71/200\n",
      "176/176 [==============================] - 0s 1ms/step - loss: 0.3514 - accuracy: 0.8356\n",
      "Epoch 72/200\n",
      "176/176 [==============================] - 0s 1ms/step - loss: 0.3487 - accuracy: 0.8345\n",
      "Epoch 73/200\n",
      "176/176 [==============================] - 0s 1ms/step - loss: 0.3478 - accuracy: 0.8324\n",
      "Epoch 74/200\n",
      "176/176 [==============================] - 0s 1ms/step - loss: 0.3486 - accuracy: 0.8350\n",
      "Epoch 75/200\n",
      "176/176 [==============================] - 0s 1ms/step - loss: 0.3483 - accuracy: 0.8382\n",
      "Epoch 76/200\n",
      "176/176 [==============================] - 0s 1ms/step - loss: 0.3489 - accuracy: 0.8382\n",
      "Epoch 77/200\n",
      "176/176 [==============================] - 0s 1ms/step - loss: 0.3467 - accuracy: 0.8380\n",
      "Epoch 78/200\n",
      "176/176 [==============================] - 0s 1ms/step - loss: 0.3479 - accuracy: 0.8361\n",
      "Epoch 79/200\n",
      "176/176 [==============================] - 0s 1ms/step - loss: 0.3459 - accuracy: 0.8373\n",
      "Epoch 80/200\n",
      "176/176 [==============================] - 0s 1ms/step - loss: 0.3449 - accuracy: 0.8425\n",
      "Epoch 81/200\n"
     ]
    },
    {
     "name": "stdout",
     "output_type": "stream",
     "text": [
      "176/176 [==============================] - 0s 1ms/step - loss: 0.3448 - accuracy: 0.8389\n",
      "Epoch 82/200\n",
      "176/176 [==============================] - 0s 1ms/step - loss: 0.3439 - accuracy: 0.8386\n",
      "Epoch 83/200\n",
      "176/176 [==============================] - 0s 1ms/step - loss: 0.3439 - accuracy: 0.8393\n",
      "Epoch 84/200\n",
      "176/176 [==============================] - 0s 1ms/step - loss: 0.3420 - accuracy: 0.8364\n",
      "Epoch 85/200\n",
      "176/176 [==============================] - 0s 1ms/step - loss: 0.3412 - accuracy: 0.8384\n",
      "Epoch 86/200\n",
      "176/176 [==============================] - 0s 1ms/step - loss: 0.3436 - accuracy: 0.8375\n",
      "Epoch 87/200\n",
      "176/176 [==============================] - 0s 1ms/step - loss: 0.3422 - accuracy: 0.8340\n",
      "Epoch 88/200\n",
      "176/176 [==============================] - 0s 1ms/step - loss: 0.3453 - accuracy: 0.8341\n",
      "Epoch 89/200\n",
      "176/176 [==============================] - 0s 1ms/step - loss: 0.3406 - accuracy: 0.8384\n",
      "Epoch 90/200\n",
      "176/176 [==============================] - 0s 1ms/step - loss: 0.3425 - accuracy: 0.8386: 0s - loss: 0.3426 - accuracy: \n",
      "Epoch 91/200\n",
      "176/176 [==============================] - 0s 1ms/step - loss: 0.3388 - accuracy: 0.8405\n",
      "Epoch 92/200\n",
      "176/176 [==============================] - 0s 1ms/step - loss: 0.3402 - accuracy: 0.8402\n",
      "Epoch 93/200\n",
      "176/176 [==============================] - 0s 1ms/step - loss: 0.3395 - accuracy: 0.8388\n",
      "Epoch 94/200\n",
      "176/176 [==============================] - 0s 1ms/step - loss: 0.3379 - accuracy: 0.8421\n",
      "Epoch 95/200\n",
      "176/176 [==============================] - 0s 1ms/step - loss: 0.3378 - accuracy: 0.8409\n",
      "Epoch 96/200\n",
      "176/176 [==============================] - 0s 1ms/step - loss: 0.3374 - accuracy: 0.8441\n",
      "Epoch 97/200\n",
      "176/176 [==============================] - 0s 1ms/step - loss: 0.3380 - accuracy: 0.8382\n",
      "Epoch 98/200\n",
      "176/176 [==============================] - 0s 1ms/step - loss: 0.3362 - accuracy: 0.8425\n",
      "Epoch 99/200\n",
      "176/176 [==============================] - 0s 1ms/step - loss: 0.3388 - accuracy: 0.8411\n",
      "Epoch 100/200\n",
      "176/176 [==============================] - 0s 1ms/step - loss: 0.3371 - accuracy: 0.8402\n",
      "Epoch 101/200\n",
      "176/176 [==============================] - 0s 1ms/step - loss: 0.3359 - accuracy: 0.8404\n",
      "Epoch 102/200\n",
      "176/176 [==============================] - 0s 1ms/step - loss: 0.3361 - accuracy: 0.8391\n",
      "Epoch 103/200\n",
      "176/176 [==============================] - 0s 1ms/step - loss: 0.3337 - accuracy: 0.8427\n",
      "Epoch 104/200\n",
      "176/176 [==============================] - 0s 1ms/step - loss: 0.3336 - accuracy: 0.8436\n",
      "Epoch 105/200\n",
      "176/176 [==============================] - 0s 1ms/step - loss: 0.3333 - accuracy: 0.8425\n",
      "Epoch 106/200\n",
      "176/176 [==============================] - 0s 1ms/step - loss: 0.3324 - accuracy: 0.8450\n",
      "Epoch 107/200\n",
      "176/176 [==============================] - 0s 1ms/step - loss: 0.3330 - accuracy: 0.8460\n",
      "Epoch 108/200\n",
      "176/176 [==============================] - 0s 1ms/step - loss: 0.3333 - accuracy: 0.8437\n",
      "Epoch 109/200\n",
      "176/176 [==============================] - 0s 1ms/step - loss: 0.3324 - accuracy: 0.8444\n",
      "Epoch 110/200\n",
      "176/176 [==============================] - 0s 1ms/step - loss: 0.3307 - accuracy: 0.8437\n",
      "Epoch 111/200\n",
      "176/176 [==============================] - 0s 1ms/step - loss: 0.3320 - accuracy: 0.8459\n",
      "Epoch 112/200\n",
      "176/176 [==============================] - 0s 1ms/step - loss: 0.3314 - accuracy: 0.8446\n",
      "Epoch 113/200\n",
      "176/176 [==============================] - 0s 1ms/step - loss: 0.3291 - accuracy: 0.8439\n",
      "Epoch 114/200\n",
      "176/176 [==============================] - 0s 1ms/step - loss: 0.3307 - accuracy: 0.8444\n",
      "Epoch 115/200\n",
      "176/176 [==============================] - 0s 1ms/step - loss: 0.3315 - accuracy: 0.8436\n",
      "Epoch 116/200\n",
      "176/176 [==============================] - 0s 1ms/step - loss: 0.3300 - accuracy: 0.8423\n",
      "Epoch 117/200\n",
      "176/176 [==============================] - 0s 1ms/step - loss: 0.3311 - accuracy: 0.8453\n",
      "Epoch 118/200\n",
      "176/176 [==============================] - 0s 2ms/step - loss: 0.3289 - accuracy: 0.8455\n",
      "Epoch 119/200\n",
      "176/176 [==============================] - 0s 2ms/step - loss: 0.3266 - accuracy: 0.8439\n",
      "Epoch 120/200\n",
      "176/176 [==============================] - 0s 1ms/step - loss: 0.3268 - accuracy: 0.8464\n",
      "Epoch 121/200\n",
      "176/176 [==============================] - 0s 1ms/step - loss: 0.3283 - accuracy: 0.8428\n",
      "Epoch 122/200\n",
      "176/176 [==============================] - 0s 1ms/step - loss: 0.3268 - accuracy: 0.8491\n",
      "Epoch 123/200\n",
      "176/176 [==============================] - 0s 1ms/step - loss: 0.3275 - accuracy: 0.8428\n",
      "Epoch 124/200\n",
      "176/176 [==============================] - 0s 1ms/step - loss: 0.3268 - accuracy: 0.8441\n",
      "Epoch 125/200\n",
      "176/176 [==============================] - 0s 1ms/step - loss: 0.3269 - accuracy: 0.8450\n",
      "Epoch 126/200\n",
      "176/176 [==============================] - 0s 1ms/step - loss: 0.3278 - accuracy: 0.8462\n",
      "Epoch 127/200\n",
      "176/176 [==============================] - 0s 1ms/step - loss: 0.3254 - accuracy: 0.8473\n",
      "Epoch 128/200\n",
      "176/176 [==============================] - 0s 1ms/step - loss: 0.3256 - accuracy: 0.8476\n",
      "Epoch 129/200\n",
      "176/176 [==============================] - 0s 1ms/step - loss: 0.3263 - accuracy: 0.8446\n",
      "Epoch 130/200\n",
      "176/176 [==============================] - 0s 1ms/step - loss: 0.3240 - accuracy: 0.8487\n",
      "Epoch 131/200\n",
      "176/176 [==============================] - 0s 1ms/step - loss: 0.3231 - accuracy: 0.8498\n",
      "Epoch 132/200\n",
      "176/176 [==============================] - 0s 1ms/step - loss: 0.3252 - accuracy: 0.8448\n",
      "Epoch 133/200\n",
      "176/176 [==============================] - 0s 1ms/step - loss: 0.3231 - accuracy: 0.8466\n",
      "Epoch 134/200\n",
      "176/176 [==============================] - 0s 1ms/step - loss: 0.3236 - accuracy: 0.8510\n",
      "Epoch 135/200\n",
      "176/176 [==============================] - 0s 1ms/step - loss: 0.3242 - accuracy: 0.8489\n",
      "Epoch 136/200\n",
      "176/176 [==============================] - 0s 1ms/step - loss: 0.3219 - accuracy: 0.8508\n",
      "Epoch 137/200\n",
      "176/176 [==============================] - 0s 1ms/step - loss: 0.3253 - accuracy: 0.8460\n",
      "Epoch 138/200\n",
      "176/176 [==============================] - 0s 1ms/step - loss: 0.3215 - accuracy: 0.8484\n",
      "Epoch 139/200\n",
      "176/176 [==============================] - 0s 1ms/step - loss: 0.3218 - accuracy: 0.8444\n",
      "Epoch 140/200\n",
      "176/176 [==============================] - 0s 2ms/step - loss: 0.3231 - accuracy: 0.8478\n",
      "Epoch 141/200\n",
      "176/176 [==============================] - 0s 1ms/step - loss: 0.3220 - accuracy: 0.8453\n",
      "Epoch 142/200\n",
      "176/176 [==============================] - 0s 1ms/step - loss: 0.3204 - accuracy: 0.8494\n",
      "Epoch 143/200\n",
      "176/176 [==============================] - 0s 1ms/step - loss: 0.3218 - accuracy: 0.8484\n",
      "Epoch 144/200\n",
      "176/176 [==============================] - 0s 1ms/step - loss: 0.3221 - accuracy: 0.8453\n",
      "Epoch 145/200\n",
      "176/176 [==============================] - 0s 1ms/step - loss: 0.3194 - accuracy: 0.8542\n",
      "Epoch 146/200\n",
      "176/176 [==============================] - 0s 1ms/step - loss: 0.3205 - accuracy: 0.8501\n",
      "Epoch 147/200\n",
      "176/176 [==============================] - 0s 1ms/step - loss: 0.3217 - accuracy: 0.8485\n",
      "Epoch 148/200\n",
      "176/176 [==============================] - 0s 1ms/step - loss: 0.3177 - accuracy: 0.8532\n",
      "Epoch 149/200\n",
      "176/176 [==============================] - 0s 1ms/step - loss: 0.3203 - accuracy: 0.8526\n",
      "Epoch 150/200\n",
      "176/176 [==============================] - 0s 1ms/step - loss: 0.3187 - accuracy: 0.8523\n",
      "Epoch 151/200\n",
      "176/176 [==============================] - 0s 1ms/step - loss: 0.3203 - accuracy: 0.8501\n",
      "Epoch 152/200\n",
      "176/176 [==============================] - 0s 1ms/step - loss: 0.3185 - accuracy: 0.8505\n",
      "Epoch 153/200\n",
      "176/176 [==============================] - 0s 1ms/step - loss: 0.3200 - accuracy: 0.8485\n",
      "Epoch 154/200\n",
      "176/176 [==============================] - 0s 1ms/step - loss: 0.3193 - accuracy: 0.8503\n",
      "Epoch 155/200\n",
      "176/176 [==============================] - 0s 1ms/step - loss: 0.3206 - accuracy: 0.8489\n",
      "Epoch 156/200\n",
      "176/176 [==============================] - 0s 1ms/step - loss: 0.3184 - accuracy: 0.8503\n",
      "Epoch 157/200\n",
      "176/176 [==============================] - 0s 1ms/step - loss: 0.3188 - accuracy: 0.8491\n",
      "Epoch 158/200\n",
      "176/176 [==============================] - 0s 1ms/step - loss: 0.3194 - accuracy: 0.8489\n",
      "Epoch 159/200\n",
      "176/176 [==============================] - 0s 1ms/step - loss: 0.3187 - accuracy: 0.8508\n",
      "Epoch 160/200\n"
     ]
    },
    {
     "name": "stdout",
     "output_type": "stream",
     "text": [
      "176/176 [==============================] - 0s 1ms/step - loss: 0.3171 - accuracy: 0.8548\n",
      "Epoch 161/200\n",
      "176/176 [==============================] - 0s 1ms/step - loss: 0.3180 - accuracy: 0.8501\n",
      "Epoch 162/200\n",
      "176/176 [==============================] - 0s 1ms/step - loss: 0.3167 - accuracy: 0.8505\n",
      "Epoch 163/200\n",
      "176/176 [==============================] - 0s 1ms/step - loss: 0.3179 - accuracy: 0.8519\n",
      "Epoch 164/200\n",
      "176/176 [==============================] - 0s 1ms/step - loss: 0.3177 - accuracy: 0.8526\n",
      "Epoch 165/200\n",
      "176/176 [==============================] - 0s 1ms/step - loss: 0.3148 - accuracy: 0.8491\n",
      "Epoch 166/200\n",
      "176/176 [==============================] - 0s 1ms/step - loss: 0.3142 - accuracy: 0.8516\n",
      "Epoch 167/200\n",
      "176/176 [==============================] - 0s 1ms/step - loss: 0.3158 - accuracy: 0.8560\n",
      "Epoch 168/200\n",
      "176/176 [==============================] - 0s 1ms/step - loss: 0.3145 - accuracy: 0.8521\n",
      "Epoch 169/200\n",
      "176/176 [==============================] - 0s 1ms/step - loss: 0.3146 - accuracy: 0.8533\n",
      "Epoch 170/200\n",
      "176/176 [==============================] - 0s 1ms/step - loss: 0.3151 - accuracy: 0.8553\n",
      "Epoch 171/200\n",
      "176/176 [==============================] - 0s 1ms/step - loss: 0.3141 - accuracy: 0.8484\n",
      "Epoch 172/200\n",
      "176/176 [==============================] - 0s 2ms/step - loss: 0.3178 - accuracy: 0.8539\n",
      "Epoch 173/200\n",
      "176/176 [==============================] - 0s 1ms/step - loss: 0.3142 - accuracy: 0.8540\n",
      "Epoch 174/200\n",
      "176/176 [==============================] - 0s 1ms/step - loss: 0.3155 - accuracy: 0.8532\n",
      "Epoch 175/200\n",
      "176/176 [==============================] - 0s 1ms/step - loss: 0.3129 - accuracy: 0.8521\n",
      "Epoch 176/200\n",
      "176/176 [==============================] - 0s 1ms/step - loss: 0.3131 - accuracy: 0.8533\n",
      "Epoch 177/200\n",
      "176/176 [==============================] - 0s 1ms/step - loss: 0.3128 - accuracy: 0.8505\n",
      "Epoch 178/200\n",
      "176/176 [==============================] - 0s 1ms/step - loss: 0.3126 - accuracy: 0.8521\n",
      "Epoch 179/200\n",
      "176/176 [==============================] - 0s 2ms/step - loss: 0.3123 - accuracy: 0.8544\n",
      "Epoch 180/200\n",
      "176/176 [==============================] - 0s 1ms/step - loss: 0.3130 - accuracy: 0.8556\n",
      "Epoch 181/200\n",
      "176/176 [==============================] - 0s 1ms/step - loss: 0.3120 - accuracy: 0.8535\n",
      "Epoch 182/200\n",
      "176/176 [==============================] - 0s 1ms/step - loss: 0.3146 - accuracy: 0.8482\n",
      "Epoch 183/200\n",
      "176/176 [==============================] - 0s 1ms/step - loss: 0.3134 - accuracy: 0.8556\n",
      "Epoch 184/200\n",
      "176/176 [==============================] - 0s 1ms/step - loss: 0.3114 - accuracy: 0.8544\n",
      "Epoch 185/200\n",
      "176/176 [==============================] - 0s 1ms/step - loss: 0.3123 - accuracy: 0.8526\n",
      "Epoch 186/200\n",
      "176/176 [==============================] - 0s 1ms/step - loss: 0.3140 - accuracy: 0.8516\n",
      "Epoch 187/200\n",
      "176/176 [==============================] - 0s 1ms/step - loss: 0.3100 - accuracy: 0.8553\n",
      "Epoch 188/200\n",
      "176/176 [==============================] - 0s 1ms/step - loss: 0.3115 - accuracy: 0.8540\n",
      "Epoch 189/200\n",
      "176/176 [==============================] - 0s 1ms/step - loss: 0.3098 - accuracy: 0.8588\n",
      "Epoch 190/200\n",
      "176/176 [==============================] - 0s 1ms/step - loss: 0.3099 - accuracy: 0.8532\n",
      "Epoch 191/200\n",
      "176/176 [==============================] - 0s 1ms/step - loss: 0.3101 - accuracy: 0.8540\n",
      "Epoch 192/200\n",
      "176/176 [==============================] - 0s 1ms/step - loss: 0.3113 - accuracy: 0.8519\n",
      "Epoch 193/200\n",
      "176/176 [==============================] - 0s 1ms/step - loss: 0.3107 - accuracy: 0.8551\n",
      "Epoch 194/200\n",
      "176/176 [==============================] - 0s 1ms/step - loss: 0.3091 - accuracy: 0.8562\n",
      "Epoch 195/200\n",
      "176/176 [==============================] - 0s 1ms/step - loss: 0.3088 - accuracy: 0.8530\n",
      "Epoch 196/200\n",
      "176/176 [==============================] - 0s 1ms/step - loss: 0.3086 - accuracy: 0.8533\n",
      "Epoch 197/200\n",
      "176/176 [==============================] - 0s 1ms/step - loss: 0.3082 - accuracy: 0.8576\n",
      "Epoch 198/200\n",
      "176/176 [==============================] - 0s 1ms/step - loss: 0.3081 - accuracy: 0.8583\n",
      "Epoch 199/200\n",
      "176/176 [==============================] - 0s 1ms/step - loss: 0.3083 - accuracy: 0.8564\n",
      "Epoch 200/200\n",
      "176/176 [==============================] - 0s 1ms/step - loss: 0.3092 - accuracy: 0.8571\n"
     ]
    },
    {
     "data": {
      "text/plain": [
       "<keras.callbacks.History at 0x21099cc8550>"
      ]
     },
     "execution_count": 38,
     "metadata": {},
     "output_type": "execute_result"
    }
   ],
   "source": [
    "model.fit(X_train, y_train, epochs=200)"
   ]
  },
  {
   "cell_type": "code",
   "execution_count": 39,
   "id": "303112a1",
   "metadata": {},
   "outputs": [
    {
     "name": "stdout",
     "output_type": "stream",
     "text": [
      "44/44 [==============================] - 0s 906us/step - loss: 0.5856 - accuracy: 0.7576\n"
     ]
    },
    {
     "data": {
      "text/plain": [
       "[0.5855806469917297, 0.7576403617858887]"
      ]
     },
     "execution_count": 39,
     "metadata": {},
     "output_type": "execute_result"
    }
   ],
   "source": [
    "model.evaluate(X_test, y_test)"
   ]
  },
  {
   "cell_type": "code",
   "execution_count": 40,
   "id": "d14ea2c7",
   "metadata": {},
   "outputs": [
    {
     "data": {
      "text/plain": [
       "array([[0.38505214],\n",
       "       [0.6070871 ],\n",
       "       [0.00079012],\n",
       "       [0.73935276],\n",
       "       [0.6802407 ]], dtype=float32)"
      ]
     },
     "execution_count": 40,
     "metadata": {},
     "output_type": "execute_result"
    }
   ],
   "source": [
    "yp = model.predict(X_test)\n",
    "yp[:5]"
   ]
  },
  {
   "cell_type": "code",
   "execution_count": 41,
   "id": "5ef977d6",
   "metadata": {},
   "outputs": [],
   "source": [
    "y_pred = []\n",
    "for element in yp:\n",
    "    if element > 0.5:\n",
    "        y_pred.append(1)\n",
    "    else:\n",
    "        y_pred.append(0)"
   ]
  },
  {
   "cell_type": "code",
   "execution_count": 42,
   "id": "d6546a35",
   "metadata": {},
   "outputs": [
    {
     "data": {
      "text/plain": [
       "[0, 1, 0, 1, 1, 1, 0, 0, 0, 0]"
      ]
     },
     "execution_count": 42,
     "metadata": {},
     "output_type": "execute_result"
    }
   ],
   "source": [
    "y_pred[:10]"
   ]
  },
  {
   "cell_type": "code",
   "execution_count": 43,
   "id": "66eed716",
   "metadata": {},
   "outputs": [
    {
     "data": {
      "text/plain": [
       "2660    0\n",
       "744     0\n",
       "5579    1\n",
       "64      1\n",
       "3287    1\n",
       "816     1\n",
       "2670    0\n",
       "5920    0\n",
       "1023    0\n",
       "6087    0\n",
       "Name: Churn, dtype: int64"
      ]
     },
     "execution_count": 43,
     "metadata": {},
     "output_type": "execute_result"
    }
   ],
   "source": [
    "y_test[:10]"
   ]
  },
  {
   "cell_type": "code",
   "execution_count": 44,
   "id": "5609a68e",
   "metadata": {},
   "outputs": [
    {
     "data": {
      "text/plain": [
       "Text(51.0, 0.5, 'True Value')"
      ]
     },
     "execution_count": 44,
     "metadata": {},
     "output_type": "execute_result"
    },
    {
     "data": {
      "image/png": "[encoded data removed]",
      "text/plain": [
       "<Figure size 576x360 with 2 Axes>"
      ]
     },
     "metadata": {
      "needs_background": "light"
     },
     "output_type": "display_data"
    }
   ],
   "source": [
    "import seaborn as sn\n",
    "cm = tf.math.confusion_matrix(labels=y_test,predictions=y_pred)\n",
    "\n",
    "plt.figure(figsize = (8,5))\n",
    "sn.heatmap(cm, annot=True, fmt='d')\n",
    "plt.xlabel('Predicted Value')\n",
    "plt.ylabel('True Value')"
   ]
  },
  {
   "cell_type": "code",
   "execution_count": 93,
   "id": "2786ec88",
   "metadata": {},
   "outputs": [
    {
     "data": {
      "text/plain": [
       "0.7562189054726368"
      ]
     },
     "execution_count": 93,
     "metadata": {},
     "output_type": "execute_result"
    }
   ],
   "source": [
    "(825+239)/(825+174+169+239)"
   ]
  },
  {
   "cell_type": "code",
   "execution_count": 95,
   "id": "9eca7f68",
   "metadata": {},
   "outputs": [
    {
     "data": {
      "text/plain": [
       "0.829979879275654"
      ]
     },
     "execution_count": 95,
     "metadata": {},
     "output_type": "execute_result"
    }
   ],
   "source": [
    "825/(825+169)"
   ]
  },
  {
   "cell_type": "code",
   "execution_count": 96,
   "id": "cc8365f5",
   "metadata": {},
   "outputs": [
    {
     "data": {
      "text/plain": [
       "0.5786924939467313"
      ]
     },
     "execution_count": 96,
     "metadata": {},
     "output_type": "execute_result"
    }
   ],
   "source": [
    "239/(174+239)"
   ]
  },
  {
   "cell_type": "code",
   "execution_count": 97,
   "id": "4f190103",
   "metadata": {},
   "outputs": [
    {
     "data": {
      "text/plain": [
       "0.8258258258258259"
      ]
     },
     "execution_count": 97,
     "metadata": {},
     "output_type": "execute_result"
    }
   ],
   "source": [
    "825/(825+174)"
   ]
  },
  {
   "cell_type": "code",
   "execution_count": 98,
   "id": "52db2188",
   "metadata": {},
   "outputs": [
    {
     "data": {
      "text/plain": [
       "0.5857843137254902"
      ]
     },
     "execution_count": 98,
     "metadata": {},
     "output_type": "execute_result"
    }
   ],
   "source": [
    "239/(169+239)"
   ]
  },
  {
   "cell_type": "code",
   "execution_count": 45,
   "id": "2461a83e",
   "metadata": {},
   "outputs": [
    {
     "name": "stdout",
     "output_type": "stream",
     "text": [
      "              precision    recall  f1-score   support\n",
      "\n",
      "           0       0.80      0.87      0.84       999\n",
      "           1       0.60      0.48      0.53       408\n",
      "\n",
      "    accuracy                           0.76      1407\n",
      "   macro avg       0.70      0.68      0.69      1407\n",
      "weighted avg       0.75      0.76      0.75      1407\n",
      "\n"
     ]
    }
   ],
   "source": [
    "from sklearn.metrics import confusion_matrix , classification_report\n",
    "\n",
    "print(classification_report(y_test,y_pred))"
   ]
  },
  {
   "cell_type": "code",
   "execution_count": null,
   "id": "c1c35eaa",
   "metadata": {},
   "outputs": [],
   "source": []
  }
 ],
 "metadata": {
  "kernelspec": {
   "display_name": "Python 3 (ipykernel)",
   "language": "python",
   "name": "python3"
  },
  "language_info": {
   "codemirror_mode": {
    "name": "ipython",
    "version": 3
   },
   "file_extension": ".py",
   "mimetype": "text/x-python",
   "name": "python",
   "nbconvert_exporter": "python",
   "pygments_lexer": "ipython3",
   "version": "3.8.11"
  }
 },
 "nbformat": 4,
 "nbformat_minor": 5
}
